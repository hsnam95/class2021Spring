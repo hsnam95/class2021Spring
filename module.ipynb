{
  "nbformat": 4,
  "nbformat_minor": 0,
  "metadata": {
    "colab": {
      "name": "module.ipynb",
      "provenance": [],
      "authorship_tag": "ABX9TyNW7q4s9jdEP7elxFhv9Dhp",
      "include_colab_link": true
    },
    "kernelspec": {
      "name": "python3",
      "display_name": "Python 3"
    },
    "language_info": {
      "name": "python"
    }
  },
  "cells": [
    {
      "cell_type": "markdown",
      "metadata": {
        "id": "view-in-github",
        "colab_type": "text"
      },
      "source": [
        "<a href=\"https://colab.research.google.com/github/hsnam95/class2021Spring/blob/main/module.ipynb\" target=\"_parent\"><img src=\"https://colab.research.google.com/assets/colab-badge.svg\" alt=\"Open In Colab\"/></a>"
      ]
    },
    {
      "cell_type": "code",
      "metadata": {
        "id": "sU1MEIdt2UEc"
      },
      "source": [
        "class cal:\n",
        "  def __init__(self):\n",
        "    self.result = 0\n",
        "  def add(self, n):\n",
        "    self.result += n\n",
        "    return self.result"
      ],
      "execution_count": 9,
      "outputs": []
    },
    {
      "cell_type": "code",
      "metadata": {
        "id": "DK4vTA6T4NN0"
      },
      "source": [
        "def func(a, b, x):\n",
        "  y = a*x + b\n",
        "  return y"
      ],
      "execution_count": 14,
      "outputs": []
    }
  ]
}