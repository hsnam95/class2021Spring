{
  "nbformat": 4,
  "nbformat_minor": 0,
  "metadata": {
    "colab": {
      "name": "useMyModule.ipynb",
      "provenance": [],
      "authorship_tag": "ABX9TyPcMqZJ+HV1hM6Aouu2Gn4S",
      "include_colab_link": true
    },
    "kernelspec": {
      "name": "python3",
      "display_name": "Python 3"
    },
    "language_info": {
      "name": "python"
    }
  },
  "cells": [
    {
      "cell_type": "markdown",
      "metadata": {
        "id": "view-in-github",
        "colab_type": "text"
      },
      "source": [
        "<a href=\"https://colab.research.google.com/github/hsnam95/class2021Spring/blob/main/useMyModule.ipynb\" target=\"_parent\"><img src=\"https://colab.research.google.com/assets/colab-badge.svg\" alt=\"Open In Colab\"/></a>"
      ]
    },
    {
      "cell_type": "code",
      "metadata": {
        "id": "K9tvfX8764rz"
      },
      "source": [
        "from google.colab import files\n",
        "uploaded = files.upload()"
      ],
      "execution_count": null,
      "outputs": []
    },
    {
      "cell_type": "code",
      "metadata": {
        "id": "hZb4n9Dk7Er_"
      },
      "source": [
        "import module as mod\n",
        "A = mod.cal()\n",
        "print(A.add(3))\n",
        "print(A.add(-1))"
      ],
      "execution_count": null,
      "outputs": []
    },
    {
      "cell_type": "code",
      "metadata": {
        "id": "IfwlhWaG7eZ6"
      },
      "source": [
        "mod.func(-1,5,4)"
      ],
      "execution_count": null,
      "outputs": []
    }
  ]
}