{
  "nbformat": 4,
  "nbformat_minor": 0,
  "metadata": {
    "colab": {
      "name": "import.ipynb",
      "provenance": [],
      "authorship_tag": "ABX9TyMMHVNZvKvqP/N1qz8Mz/WO",
      "include_colab_link": true
    },
    "kernelspec": {
      "name": "python3",
      "display_name": "Python 3"
    },
    "language_info": {
      "name": "python"
    }
  },
  "cells": [
    {
      "cell_type": "markdown",
      "metadata": {
        "id": "view-in-github",
        "colab_type": "text"
      },
      "source": [
        "<a href=\"https://colab.research.google.com/github/hsnam95/class2021Spring/blob/main/import.ipynb\" target=\"_parent\"><img src=\"https://colab.research.google.com/assets/colab-badge.svg\" alt=\"Open In Colab\"/></a>"
      ]
    },
    {
      "cell_type": "code",
      "metadata": {
        "id": "JXicrkYOzPRo"
      },
      "source": [
        "import numpy as np\n",
        "n = np.random.randn(100)"
      ],
      "execution_count": 31,
      "outputs": []
    },
    {
      "cell_type": "code",
      "metadata": {
        "id": "oKT4vn4MwyLA"
      },
      "source": [
        "import matplotlib\n",
        "import matplotlib.pyplot\n",
        "from matplotlib import pyplot\n",
        "from matplotlib.pyplot import hist"
      ],
      "execution_count": null,
      "outputs": []
    },
    {
      "cell_type": "code",
      "metadata": {
        "id": "2Yd0m5owzGJ0"
      },
      "source": [
        ""
      ],
      "execution_count": null,
      "outputs": []
    },
    {
      "cell_type": "code",
      "metadata": {
        "colab": {
          "base_uri": "https://localhost:8080/",
          "height": 350
        },
        "id": "m54p2uAbzGTf",
        "outputId": "a32e3d16-2773-40a5-b58c-7680f275e233"
      },
      "source": [
        ""
      ],
      "execution_count": 38,
      "outputs": [
        {
          "output_type": "execute_result",
          "data": {
            "text/plain": [
              "(array([ 4.,  5.,  7., 10., 11., 11., 18., 12., 15.,  7.]),\n",
              " array([-2.51085499, -2.09665637, -1.68245775, -1.26825913, -0.85406051,\n",
              "        -0.43986189, -0.02566327,  0.38853535,  0.80273397,  1.21693259,\n",
              "         1.63113121]),\n",
              " <a list of 10 Patch objects>)"
            ]
          },
          "metadata": {
            "tags": []
          },
          "execution_count": 38
        },
        {
          "output_type": "display_data",
          "data": {
            "image/png": "[encoded data removed]",
            "text/plain": [
              "<Figure size 432x288 with 1 Axes>"
            ]
          },
          "metadata": {
            "tags": [],
            "needs_background": "light"
          }
        }
      ]
    },
    {
      "cell_type": "code",
      "metadata": {
        "id": "EAKqNxkJzGWW"
      },
      "source": [
        ""
      ],
      "execution_count": null,
      "outputs": []
    }
  ]
}